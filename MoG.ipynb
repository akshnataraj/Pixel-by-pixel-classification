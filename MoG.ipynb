{
  "nbformat": 4,
  "nbformat_minor": 0,
  "metadata": {
    "colab": {
      "name": "MoG.ipynb",
      "provenance": [],
      "collapsed_sections": [],
      "authorship_tag": "ABX9TyPCY98bBH+mlxJe+x70Rcp7"
    },
    "kernelspec": {
      "name": "python3",
      "display_name": "Python 3"
    }
  },
  "cells": [
    {
      "cell_type": "code",
      "metadata": {
        "id": "KB3N2KSZ8Ycx"
      },
      "source": [
        "import glob\r\n",
        "import numpy as np\r\n",
        "import matplotlib.pyplot as plt\r\n",
        "import sys\r\n",
        "flt_min = sys.float_info.min # to add a small float variable to avoid divide by zero errors."
      ],
      "execution_count": 1,
      "outputs": []
    },
    {
      "cell_type": "code",
      "metadata": {
        "id": "WoVRnsFx8J3J"
      },
      "source": [
        "def plot(im, gt, title1, title2, i):\r\n",
        "    \"\"\"\r\n",
        "    a function that plots the original image and the ground truth image side by side, with it's corresponding titles\r\n",
        "    \r\n",
        "    Input parameters:\r\n",
        "    im -- original RGB image\r\n",
        "    gt -- ground truth binary mask\r\n",
        "    \r\n",
        "    Returns:\r\n",
        "    None\r\n",
        "    \r\n",
        "    \"\"\"\r\n",
        "    fig = plt.figure(figsize=plt.figaspect(0.3))\r\n",
        "    plt.subplot(1, 2, 1)\r\n",
        "    plt.imshow(im)\r\n",
        "    plt.gca().set_title(title1 + \" - \" + str(i+1))\r\n",
        "    plt.subplot(1, 2, 2)\r\n",
        "    plt.imshow(gt)\r\n",
        "    plt.gca().set_title(title2 + \" - \" + str(i+1))\r\n",
        "    \r\n",
        "def plot_three(im, gt, posterior, i):\r\n",
        "    \"\"\"\r\n",
        "    a function that plots the original image, the ground truth image and the posterior side by side, with it's corresponding titles\r\n",
        "    \r\n",
        "    Input parameters:\r\n",
        "    im -- original RGB test image\r\n",
        "    gt -- ground truth binary mask\r\n",
        "    posterior -- posterior predictions based on im\r\n",
        "    \r\n",
        "    Returns:\r\n",
        "    None\r\n",
        "    \r\n",
        "    \"\"\"\r\n",
        "    fig = plt.figure(figsize=plt.figaspect(0.3))\r\n",
        "    plt.subplot(1, 3, 1)\r\n",
        "    plt.imshow(im)\r\n",
        "    plt.gca().set_title('Original Image' + \" - \" + str(i+1))\r\n",
        "    plt.subplot(1, 3, 2)\r\n",
        "    plt.imshow(posterior)\r\n",
        "    plt.gca().set_title('Posterior' + \" - \" + str(i+1))\r\n",
        "    plt.subplot(1, 3, 3)\r\n",
        "    plt.imshow(gt)\r\n",
        "    plt.gca().set_title('Ground Truth Binary mask' + \" - \" + str(i+1))\r\n",
        "    \r\n",
        "\r\n",
        "def threshold(gt):\r\n",
        "    \"\"\" \r\n",
        "    a function that takes thresholds the ground truth image into 0s and 1s based on pixel value, \r\n",
        "    assigns 1 if pixel value >= 0.5 (1 denoting apple class)\r\n",
        "    assigns 0 if pixel value < 0.5 (0 denoting non-apple class)\r\n",
        "    \r\n",
        "    Input parameters:\r\n",
        "    gt -- ground truth image \r\n",
        "    \r\n",
        "    Returns:\r\n",
        "    gt -- thresholded ground truth image\r\n",
        "    \"\"\"\r\n",
        "    gt[gt >= 0.5] = 1 # if pixel value is greater than 0.5 => assign 1\r\n",
        "    gt[gt < 0.5] = 0 # if pixel value is less than 0 => assign 0\r\n",
        "    return gt"
      ],
      "execution_count": null,
      "outputs": []
    },
    {
      "cell_type": "code",
      "metadata": {
        "id": "6cp-X6w78XRh"
      },
      "source": [
        ""
      ],
      "execution_count": null,
      "outputs": []
    }
  ]
}